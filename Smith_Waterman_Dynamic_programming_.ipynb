{
  "nbformat": 4,
  "nbformat_minor": 0,
  "metadata": {
    "colab": {
      "provenance": []
    },
    "kernelspec": {
      "name": "python3",
      "display_name": "Python 3"
    },
    "language_info": {
      "name": "python"
    }
  },
  "cells": [
    {
      "cell_type": "code",
      "source": [
        "#example sequences.\n",
        "seq1= \"AGTTC\"\n",
        "seq2= \"ATTCG\"\n",
        "match=+2\n",
        "mismatch=-1\n",
        "gap = -2"
      ],
      "metadata": {
        "id": "sztlEdstv6--"
      },
      "execution_count": null,
      "outputs": []
    },
    {
      "cell_type": "code",
      "source": [
        "def SWalaign (seq1, seq2, match, mismatch, gap):\n",
        "  import numpy as np\n",
        "\n",
        "  matrix2, matrix3 = create_matrices(seq1, seq2, match, mismatch, gap) #call first function\n",
        "\n",
        "\n",
        "  final_seq1, final_seq2 = create_sequences(matrix2, matrix3, seq1, seq2) #call second function\n",
        "\n",
        "\n",
        "  final_nucleotide_tuple = reverse_sequences(final_seq1, final_seq2)#call third function\n",
        "\n",
        "\n",
        "  return print(final_nucleotide_tuple)\n",
        "\n",
        "\n",
        "SWalaign (seq1= \"AGTTC\", seq2= \"ATTCG\", match = +2, mismatch = -1, gap = -2)\n",
        "\n"
      ],
      "metadata": {
        "colab": {
          "base_uri": "https://localhost:8080/"
        },
        "id": "USipW6HlSA4w",
        "outputId": "e588385c-ecc2-4616-c995-9293488787f7"
      },
      "execution_count": null,
      "outputs": [
        {
          "output_type": "stream",
          "name": "stdout",
          "text": [
            "('TTC', 'TTC')\n"
          ]
        }
      ]
    },
    {
      "cell_type": "code",
      "source": [
        "#returns 2 matrices. 1 with the numbers, another with the directions\n",
        "\n",
        "import numpy as np\n",
        "def create_matrices(seq1, seq2, match, mismatch, gap):\n",
        "  matrix = np.zeros((1 + len(seq1), 1+ len(seq2)))\n",
        "  matrix2 = matrix.copy()\n",
        "  matrix3 = np.zeros((1 + len(seq1), 1+ len(seq2)), dtype='U8')\n",
        "\n",
        "  for i in range(1, matrix.shape[0]):  # Iterate over rows, starting from index 1\n",
        "      for j in range(1, matrix.shape[1]):  # Iterate over columns, starting from index 1\n",
        "\n",
        "        above = matrix2[i - 1, j]\n",
        "        next_to = matrix2[i, j - 1]\n",
        "        diagonal = matrix2[i - 1, j - 1]\n",
        "\n",
        "        char1 = seq1[j-1]  # Adjust indices to align with the matrix\n",
        "        char2 = seq2[i-1]\n",
        "\n",
        "\n",
        "        if char1 == char2:  # If sequences are aligned\n",
        "            matrix2[i, j] = diagonal + match  # Set [i, j] to diagonal + match score\n",
        "            matrix3[i,j] = 'match'\n",
        "\n",
        "\n",
        "        elif diagonal + mismatch > above + gap and next_to + gap:   #if mis > gap\n",
        "            matrix3[i,j] = 'mismatch'\n",
        "            if diagonal + mismatch > 0:                         #if it'll still be greater than 0\n",
        "              matrix2[i,j] = diagonal + mismatch\n",
        "            else:\n",
        "              matrix2[i,j] = 0\n",
        "\n",
        "\n",
        "        elif above + gap > next_to + gap and diagonal + mismatch:  # If vertical gap score is higher than gap and mismatch\n",
        "            matrix3[i,j] = 'A_gap'\n",
        "            if above + gap > 0:\n",
        "              matrix2[i, j] = above + gap\n",
        "            else:\n",
        "              matrix2[i, j] = (0)\n",
        "\n",
        "\n",
        "        elif next_to + gap > above + gap and diagonal + mismatch:  # If horizontal gap is higher than gap and mismatch\n",
        "            matrix3[i,j] = 'N_gap'\n",
        "            if next_to + gap > 0:\n",
        "              matrix2[i, j] = next_to + gap\n",
        "            else:\n",
        "              matrix2[i, j] = 0\n",
        "\n",
        "        elif next_to + gap == above + gap and diagonal + mismatch: #if mismatch and gap make the same number\n",
        "            matrix3[i,j] = 'gap and mis'\n",
        "            if next_to + gap > 0:\n",
        "              matrix2[i, j] = next_to + gap\n",
        "            else:\n",
        "              matrix2[i, j] = 0\n",
        "\n",
        "  return matrix2, matrix3\n",
        "\n",
        "create_matrices(seq1, seq2, match, mismatch, gap) #to test"
      ],
      "metadata": {
        "colab": {
          "base_uri": "https://localhost:8080/"
        },
        "id": "5OoP3-rITASG",
        "outputId": "b9378ddc-b76a-4336-d5a4-8aad14a69621"
      },
      "execution_count": null,
      "outputs": [
        {
          "output_type": "execute_result",
          "data": {
            "text/plain": [
              "(array([[0., 0., 0., 0., 0., 0.],\n",
              "        [0., 2., 0., 0., 0., 0.],\n",
              "        [0., 0., 1., 2., 2., 0.],\n",
              "        [0., 0., 0., 3., 4., 1.],\n",
              "        [0., 0., 0., 1., 2., 6.],\n",
              "        [0., 0., 2., 0., 0., 4.]]),\n",
              " array([['', '', '', '', '', ''],\n",
              "        ['', 'match', 'N_gap', 'mismatch', 'mismatch', 'mismatch'],\n",
              "        ['', 'A_gap', 'mismatch', 'match', 'match', 'N_gap'],\n",
              "        ['', 'mismatch', 'A_gap', 'match', 'match', 'mismatch'],\n",
              "        ['', 'mismatch', 'mismatch', 'A_gap', 'A_gap', 'match'],\n",
              "        ['', 'mismatch', 'match', 'N_gap', '', 'A_gap']], dtype='<U8'))"
            ]
          },
          "metadata": {},
          "execution_count": 104
        }
      ]
    },
    {
      "cell_type": "code",
      "source": [
        "#to take the matrices and output a sequence that will be the best local alignment in reverse\n",
        "\n",
        "def create_sequences(matrix2, matrix3, seq1, seq2):\n",
        "  max_indices = np.argmax(matrix2)\n",
        "  max_index_row, max_index_col = np.unravel_index(max_indices, matrix2.shape) #to find the indices in the matrix with the highest number\n",
        "\n",
        "  final_seq1 = ''\n",
        "  final_seq2 = ''\n",
        "\n",
        "\n",
        "  current_row = max_index_row\n",
        "  current_col = max_index_col\n",
        "\n",
        "  while matrix2[current_row, current_col] != 0:    #iterate until hit a 0\n",
        "\n",
        "      direction = matrix3[current_row, current_col]     # Perform actions based on matrix3 values\n",
        "\n",
        "      if direction == 'match' or direction == 'mismatch':\n",
        "          final_seq1 += seq1[current_col - 1]           #add nucleotide to sequences\n",
        "          final_seq2 += seq2[current_row - 1]\n",
        "          current_row -= 1                              #move current to diagonal indices\n",
        "          current_col -= 1\n",
        "      elif direction == 'A_gap':\n",
        "          final_seq1 += seq1[current_col - 1]           #add nucleotide and a '-' for gap\n",
        "          final_seq2 += '-'\n",
        "          current_row -= 1                              #move to above indices\n",
        "      elif direction == 'N_gap':\n",
        "          final_seq1 += '-'                             #add nucleotide and a '-' for gap\n",
        "          final_seq2 += seq2[current_row - 1]\n",
        "          current_col -= 1                              #move to adjacent indices\n",
        "\n",
        "      elif current_row < 0 or current_col < 0:          #if reach the end of matrix, break\n",
        "          break\n",
        "      else:\n",
        "          break\n",
        "\n",
        "\n",
        "  return final_seq1, final_seq2\n",
        "\n"
      ],
      "metadata": {
        "id": "e2u2PLkycLMF"
      },
      "execution_count": null,
      "outputs": []
    },
    {
      "cell_type": "code",
      "source": [
        "#to reverse the output of create_sequences\n",
        "def reverse_sequences(final_seq1, final_seq2):\n",
        "    # Reverse each sequence\n",
        "    reversed_seq1 = final_seq1[::-1]\n",
        "    reversed_seq2 = final_seq2[::-1]\n",
        "\n",
        "    final_nucleotide_tuple = (reversed_seq1, reversed_seq2)\n",
        "\n",
        "    return final_nucleotide_tuple\n"
      ],
      "metadata": {
        "id": "RdRJ7qMGk27I"
      },
      "execution_count": null,
      "outputs": []
    }
  ]
}